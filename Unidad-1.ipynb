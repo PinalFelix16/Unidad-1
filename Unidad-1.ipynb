{
 "cells": [
  {
   "cell_type": "markdown",
   "id": "014b44b7",
   "metadata": {},
   "source": [
    "# Analitica de datos en las organizaciones"
   ]
  },
  {
   "cell_type": "markdown",
   "id": "8768bb5b",
   "metadata": {},
   "source": [
    "## Unidad 1 "
   ]
  },
  {
   "cell_type": "markdown",
   "id": "b140a325",
   "metadata": {},
   "source": [
    "## Unidad 1 Conceptos Generales de Phyton"
   ]
  },
  {
   "cell_type": "code",
   "execution_count": null,
   "id": "b512b1db",
   "metadata": {},
   "outputs": [],
   "source": []
  },
  {
   "cell_type": "code",
   "execution_count": null,
   "id": "3c9e4bc1",
   "metadata": {},
   "outputs": [],
   "source": [
    "print(\"Hola mundo\")"
   ]
  },
  {
   "cell_type": "code",
   "execution_count": null,
   "id": "a75b6b94",
   "metadata": {},
   "outputs": [],
   "source": [
    "print(\"Hola \\n mundo\")"
   ]
  },
  {
   "cell_type": "code",
   "execution_count": null,
   "id": "e2fb63fe",
   "metadata": {},
   "outputs": [],
   "source": [
    "print(**********)"
   ]
  },
  {
   "cell_type": "code",
   "execution_count": null,
   "id": "c9e21f22",
   "metadata": {},
   "outputs": [],
   "source": [
    "print(\"*****************\")"
   ]
  },
  {
   "cell_type": "code",
   "execution_count": null,
   "id": "9dfb4b8b",
   "metadata": {},
   "outputs": [],
   "source": [
    "print(\"*\" * 50)"
   ]
  },
  {
   "cell_type": "code",
   "execution_count": null,
   "id": "9604285c",
   "metadata": {},
   "outputs": [],
   "source": [
    "print(\"Hola Mundo\"*50)"
   ]
  },
  {
   "cell_type": "markdown",
   "id": "a570962e",
   "metadata": {},
   "source": [
    "## Operadores en Phyton"
   ]
  },
  {
   "cell_type": "code",
   "execution_count": null,
   "id": "ff8be362",
   "metadata": {},
   "outputs": [],
   "source": [
    "print(3 * 50)"
   ]
  },
  {
   "cell_type": "code",
   "execution_count": null,
   "id": "b79d5797",
   "metadata": {},
   "outputs": [],
   "source": [
    "print(10 / 3)"
   ]
  },
  {
   "cell_type": "code",
   "execution_count": null,
   "id": "91b9f665",
   "metadata": {},
   "outputs": [],
   "source": [
    "print(10 // 3) "
   ]
  },
  {
   "cell_type": "code",
   "execution_count": null,
   "id": "d521da4a",
   "metadata": {},
   "outputs": [],
   "source": [
    "print(9 % 2)"
   ]
  },
  {
   "cell_type": "code",
   "execution_count": null,
   "id": "d43d985f",
   "metadata": {},
   "outputs": [],
   "source": [
    "print(2 + 3 * 5)"
   ]
  },
  {
   "cell_type": "code",
   "execution_count": null,
   "id": "63bccd29",
   "metadata": {},
   "outputs": [],
   "source": [
    "print((2 + 3) * 5)"
   ]
  },
  {
   "cell_type": "code",
   "execution_count": null,
   "id": "653cd802",
   "metadata": {},
   "outputs": [],
   "source": [
    "x = 5\n",
    "y = 3.1416\n",
    "print(x * y)"
   ]
  },
  {
   "cell_type": "code",
   "execution_count": null,
   "id": "58cde0a4",
   "metadata": {},
   "outputs": [],
   "source": [
    "type(x)"
   ]
  },
  {
   "cell_type": "code",
   "execution_count": null,
   "id": "644d864d",
   "metadata": {},
   "outputs": [],
   "source": [
    "type(y)"
   ]
  },
  {
   "cell_type": "markdown",
   "id": "e85159e0",
   "metadata": {},
   "source": [
    "## Convertir tipos de Datos"
   ]
  },
  {
   "cell_type": "code",
   "execution_count": null,
   "id": "a7aeec06",
   "metadata": {},
   "outputs": [],
   "source": [
    "y = int(3.6)\n",
    "print(y)"
   ]
  },
  {
   "cell_type": "code",
   "execution_count": null,
   "id": "809eed9f",
   "metadata": {},
   "outputs": [],
   "source": [
    "x = \"300\"\n",
    "z = int(x)\n",
    "print(z)"
   ]
  },
  {
   "cell_type": "markdown",
   "id": "12081741",
   "metadata": {},
   "source": [
    "## Entrada de datos"
   ]
  },
  {
   "cell_type": "code",
   "execution_count": null,
   "id": "31923b27",
   "metadata": {},
   "outputs": [],
   "source": [
    "variable = input(\"Escribe tu nombre: \")\n",
    "print(\"Tu nombre es: \", variable)"
   ]
  },
  {
   "cell_type": "code",
   "execution_count": null,
   "id": "be9ea4e4",
   "metadata": {},
   "outputs": [],
   "source": [
    "x = input(\"Proporcioname un numero para multiplicarlo por 5: \")\n",
    "print(x * 5)"
   ]
  },
  {
   "cell_type": "code",
   "execution_count": null,
   "id": "99d23650",
   "metadata": {},
   "outputs": [],
   "source": [
    "x = int(input(\"Proporcioname un numero para multiplicarlo por 5: \"))\n",
    "print(x * 5)"
   ]
  },
  {
   "cell_type": "markdown",
   "id": "8aa6a1a8",
   "metadata": {},
   "source": [
    "## Calcular la hipotenusa de un triangulo"
   ]
  },
  {
   "cell_type": "code",
   "execution_count": null,
   "id": "1eb55027",
   "metadata": {},
   "outputs": [],
   "source": [
    "import math\n",
    "a = float(input(\"Ingrese el cateto a: \"))\n",
    "b = float(input(\"Ingrese el cateto b: \"))\n",
    "c = (a**2) + (b**2)\n",
    "print(\"La hipotenusa es: \", math.sqrt(c))"
   ]
  },
  {
   "cell_type": "markdown",
   "id": "5bad3ef0",
   "metadata": {},
   "source": [
    "## IF ELSE condiciones"
   ]
  },
  {
   "cell_type": "code",
   "execution_count": null,
   "id": "a5dfc750",
   "metadata": {},
   "outputs": [],
   "source": [
    "a=5000\n",
    "b=7000\n",
    "if b > a:\n",
    "    print (\"b es mayor que a\")\n",
    "    print(b, \"es mayor que \", a)\n",
    "    else:\n",
    "    print(\"a es mayor que b\")\n",
    "    print(a, \"es mayor que \", b)\n",
    "    print(\"fuera del IF\")"
   ]
  },
  {
   "cell_type": "code",
   "execution_count": null,
   "id": "6c5b77f8",
   "metadata": {},
   "outputs": [],
   "source": [
    "a=5000\n",
    "b=5000\n",
    "if b>a:\n",
    "    print(b,\"es mayor que \",a)\n",
    "    \n",
    "    else a== b:\n",
    "        print(a,\"es igual que \", b)\n",
    "        \n",
    "        else a>b:\n",
    "            print(a, \"es mayor que \", b)"
   ]
  },
  {
   "cell_type": "code",
   "execution_count": null,
   "id": "f0fc6bad",
   "metadata": {},
   "outputs": [],
   "source": []
  },
  {
   "cell_type": "code",
   "execution_count": null,
   "id": "8b93d39d",
   "metadata": {},
   "outputs": [],
   "source": []
  },
  {
   "cell_type": "code",
   "execution_count": null,
   "id": "2bd2ab7b",
   "metadata": {},
   "outputs": [],
   "source": []
  },
  {
   "cell_type": "code",
   "execution_count": null,
   "id": "0c325310",
   "metadata": {},
   "outputs": [],
   "source": []
  },
  {
   "cell_type": "markdown",
   "id": "dcc1500e",
   "metadata": {},
   "source": [
    "### if simplificado en una linea"
   ]
  },
  {
   "cell_type": "code",
   "execution_count": null,
   "id": "fa6c61c0",
   "metadata": {},
   "outputs": [],
   "source": []
  },
  {
   "cell_type": "code",
   "execution_count": null,
   "id": "939b82ab",
   "metadata": {},
   "outputs": [],
   "source": [
    "x = 50\n",
    "y = 70\n",
    "print(x, \"es mayor que \", y) if(x > y) "
   ]
  },
  {
   "cell_type": "code",
   "execution_count": null,
   "id": "c40afaca",
   "metadata": {},
   "outputs": [],
   "source": []
  },
  {
   "cell_type": "code",
   "execution_count": null,
   "id": "c2dd9c8c",
   "metadata": {},
   "outputs": [],
   "source": []
  },
  {
   "cell_type": "markdown",
   "id": "5680b8af",
   "metadata": {},
   "source": [
    "# 1.8 Ciclos o bucles "
   ]
  },
  {
   "cell_type": "markdown",
   "id": "215267f7",
   "metadata": {},
   "source": [
    "## 1.8.1 While\n",
    "    while conditional_expression:\n",
    "    instruction_one\n",
    "    instruction_two\n",
    "    instruction_three\n",
    "    :\n",
    "    :\n",
    "    instruction_n"
   ]
  },
  {
   "cell_type": "code",
   "execution_count": null,
   "id": "6e6f3514",
   "metadata": {},
   "outputs": [],
   "source": [
    "i = 1\n",
    "while i <= 10:\n",
    "    print (i)\n",
    "    i +=1\n",
    "    \n",
    "\n",
    "print (\"Fuera del while\")"
   ]
  },
  {
   "cell_type": "markdown",
   "id": "5e5debd7",
   "metadata": {},
   "source": [
    "### Break\n",
    "break: sale del ciclo inmediatamente terminando el ciclo"
   ]
  },
  {
   "cell_type": "code",
   "execution_count": null,
   "id": "7889bb24",
   "metadata": {},
   "outputs": [],
   "source": [
    "i = 1\n",
    "while i <= 10:\n",
    "    print (i)\n",
    "    if i== 5:\n",
    "        print(\"Entro al if, y sale del ciclo con el break\")\n",
    "        break\n",
    "    i +=1\n",
    "    \n",
    "\n",
    "print (\"Fuera del while\")"
   ]
  },
  {
   "cell_type": "code",
   "execution_count": null,
   "id": "128ee428",
   "metadata": {},
   "outputs": [],
   "source": [
    "i = 1\n",
    "while i <= 10:\n",
    "    print (i)\n",
    "    if i== 5:\n",
    "        print(\"Entro al if, y sale del ciclo con el continue\")\n",
    "        continue\n",
    "    i +=1\n",
    "    \n",
    "\n",
    "print (\"Fuera del while\")"
   ]
  },
  {
   "cell_type": "markdown",
   "id": "b3bee30c",
   "metadata": {},
   "source": [
    "### for\n",
    "for i int range(1,10):\n",
    "instruction_one\n",
    "instruction_two\n",
    "instruction_three\n",
    ":\n",
    ":\n",
    "instruction_n"
   ]
  },
  {
   "cell_type": "code",
   "execution_count": null,
   "id": "a48ca3ea",
   "metadata": {},
   "outputs": [],
   "source": [
    "for x in range(5):\n",
    "    print(x)"
   ]
  },
  {
   "cell_type": "code",
   "execution_count": null,
   "id": "f5c77112",
   "metadata": {},
   "outputs": [],
   "source": [
    "for z in range(2,7):\n",
    "    print(z)"
   ]
  },
  {
   "cell_type": "code",
   "execution_count": null,
   "id": "b3e5a9ce",
   "metadata": {},
   "outputs": [],
   "source": [
    "for z in range(1,25,2):\n",
    "    print (z)"
   ]
  },
  {
   "cell_type": "code",
   "execution_count": null,
   "id": "27702da6",
   "metadata": {},
   "outputs": [],
   "source": [
    "print (\"Break dentro de un for\")\n",
    "for i in range (1,6):\n",
    "    if i ==3:\n",
    "        print(\"Entro al break\")\n",
    "        break\n",
    "    print(\"Dentro del ciclo for\", i)\n",
    "    \n",
    "print(\"Fuera del for\")"
   ]
  },
  {
   "cell_type": "code",
   "execution_count": null,
   "id": "82d469f1",
   "metadata": {},
   "outputs": [],
   "source": [
    "print (\"Continue dentro de un for\")\n",
    "for i in range (1,6):\n",
    "    if i ==3:\n",
    "        print(\"Entro al Continue\")\n",
    "        continue\n",
    "    print(\"Dentro del ciclo for\", i)\n",
    "    \n",
    "print(\"Fuera del for\")"
   ]
  },
  {
   "cell_type": "markdown",
   "id": "9fd10ac6",
   "metadata": {},
   "source": [
    "### El ciclo for para recorrer listas"
   ]
  },
  {
   "cell_type": "code",
   "execution_count": null,
   "id": "3a0fcbe0",
   "metadata": {},
   "outputs": [],
   "source": [
    "frutas =[ \"Platano\",\"Fresa\",\"Manzana\",\"Naranja\" ] #el for tambien ayuda a recorrer listas y no importa si son numericas o de caracteres\n",
    "for x in frutas:\n",
    "    print (x)"
   ]
  },
  {
   "cell_type": "code",
   "execution_count": null,
   "id": "8a04f480",
   "metadata": {},
   "outputs": [],
   "source": [
    "frutas =[ \"Platano\",\"Fresa\",\"Manzana\",\"Naranja\" ] \n",
    "for x in frutas:\n",
    "    if x ==\"Manzana\":\n",
    "        break\n",
    "    print (x)\n",
    "    "
   ]
  },
  {
   "cell_type": "markdown",
   "id": "def18260",
   "metadata": {},
   "source": [
    "### Ejercicio \n",
    "\n",
    "Un programa en python que me pida un numero por teclado y con ese numero \n",
    "gnerar una tabla de multiplicar de 1 al 20\n"
   ]
  },
  {
   "cell_type": "code",
   "execution_count": null,
   "id": "3e0a775f",
   "metadata": {},
   "outputs": [],
   "source": [
    "\n",
    "x = int(input(\"Ingrese un numero para multiplicar\"))\n",
    "for z in range (1,20):\n",
    "    print(x*z)\n"
   ]
  },
  {
   "cell_type": "markdown",
   "id": "05d68232",
   "metadata": {},
   "source": [
    "## Funciones"
   ]
  },
  {
   "cell_type": "code",
   "execution_count": null,
   "id": "348568e6",
   "metadata": {},
   "outputs": [],
   "source": [
    "def funcion_mensaje():\n",
    "    print(\"Hola Mundo\")"
   ]
  },
  {
   "cell_type": "code",
   "execution_count": null,
   "id": "2458001c",
   "metadata": {},
   "outputs": [],
   "source": [
    "funcion_mensaje()"
   ]
  },
  {
   "cell_type": "code",
   "execution_count": null,
   "id": "6b9b0bc2",
   "metadata": {},
   "outputs": [],
   "source": [
    "def tablas_multiplicar(x):\n",
    "    for z in range(1,11):\n",
    "        print(x, \"por\", z, \"=\", x*z)\n",
    "    print(\"fin de la funcion\")"
   ]
  },
  {
   "cell_type": "code",
   "execution_count": null,
   "id": "2a052837",
   "metadata": {},
   "outputs": [],
   "source": [
    "tablas_multiplicar(34)"
   ]
  },
  {
   "cell_type": "code",
   "execution_count": null,
   "id": "f24e041d",
   "metadata": {},
   "outputs": [],
   "source": [
    "tablas_multiplicar(5) "
   ]
  },
  {
   "cell_type": "code",
   "execution_count": null,
   "id": "242b0460",
   "metadata": {},
   "outputs": [],
   "source": [
    "def saludar(nombre, apellido, edad):\n",
    "    print(\"Hola, mi nombre es\",nombre,apellido,\"y mi edad es\",edad)"
   ]
  },
  {
   "cell_type": "code",
   "execution_count": null,
   "id": "bda03167",
   "metadata": {},
   "outputs": [],
   "source": [
    "saludar(\"Carlos\",\"Pinal\",22)"
   ]
  },
  {
   "cell_type": "code",
   "execution_count": null,
   "id": "484b780b",
   "metadata": {},
   "outputs": [],
   "source": [
    "def saludar2(nombre,edad = 50):\n",
    "    print(\"Hola, mi nombre es\", nombre, \"y mi edad es\", edad)"
   ]
  },
  {
   "cell_type": "code",
   "execution_count": null,
   "id": "2f211d17",
   "metadata": {},
   "outputs": [],
   "source": [
    "saludar2(\"Carlos\",48)"
   ]
  },
  {
   "cell_type": "code",
   "execution_count": null,
   "id": "69909e93",
   "metadata": {},
   "outputs": [],
   "source": [
    "saludar2(\"Carlos\")"
   ]
  },
  {
   "cell_type": "code",
   "execution_count": null,
   "id": "e32e833a",
   "metadata": {},
   "outputs": [],
   "source": [
    "saludar2(edad=34,nombre =\"Carlos\")"
   ]
  },
  {
   "cell_type": "code",
   "execution_count": null,
   "id": "af6d3b8a",
   "metadata": {},
   "outputs": [],
   "source": [
    "def calcularDoble(qaz):\n",
    "    qaz=qaz*2\n",
    "    return qaz"
   ]
  },
  {
   "cell_type": "code",
   "execution_count": null,
   "id": "dfeff4c1",
   "metadata": {},
   "outputs": [],
   "source": [
    "x=calcularDoble(9)"
   ]
  },
  {
   "cell_type": "code",
   "execution_count": null,
   "id": "b17d0a24",
   "metadata": {},
   "outputs": [],
   "source": [
    "print(x)"
   ]
  },
  {
   "cell_type": "code",
   "execution_count": null,
   "id": "c4d5a7af",
   "metadata": {},
   "outputs": [],
   "source": [
    "print(calcularDoble(100))"
   ]
  },
  {
   "cell_type": "markdown",
   "id": "90fd90f4",
   "metadata": {},
   "source": [
    "### Alcance de las variables"
   ]
  },
  {
   "cell_type": "code",
   "execution_count": null,
   "id": "2aa289ea",
   "metadata": {},
   "outputs": [],
   "source": [
    "#La variableX no existe fuera de la función por eso marca error\n",
    "def miFuncion():\n",
    "    variableX=123\n",
    "    \n",
    "\n",
    "miFuncion()\n",
    "print(variableX) "
   ]
  },
  {
   "cell_type": "code",
   "execution_count": null,
   "id": "9453b656",
   "metadata": {},
   "outputs": [],
   "source": [
    "def miFuncion():\n",
    "    global variableX #primero se declara la variable como global y despues se le asigna un valor\n",
    "    variableX=123\n",
    "    \n",
    "\n",
    "miFuncion()\n",
    "print(variableX) "
   ]
  },
  {
   "cell_type": "code",
   "execution_count": null,
   "id": "2a3037ff",
   "metadata": {},
   "outputs": [],
   "source": []
  },
  {
   "cell_type": "markdown",
   "id": "f624ed3d",
   "metadata": {},
   "source": [
    "### Manejo de excepciones"
   ]
  },
  {
   "cell_type": "code",
   "execution_count": null,
   "id": "2f2fdb73",
   "metadata": {},
   "outputs": [],
   "source": [
    "x=float(input(\"Introduce un numero \"))\n",
    "y=5\n",
    "print(\"La multiplicacion de \", x, \" * \", y, \" es = \",x*y)"
   ]
  },
  {
   "cell_type": "code",
   "execution_count": null,
   "id": "b4b5231f",
   "metadata": {},
   "outputs": [],
   "source": [
    "x=float(input(\"Introduce un numero \"))\n",
    "y=5\n",
    "print(\"La multiplicacion de \", x, \" * \", y, \" es = \",x*y)"
   ]
  },
  {
   "cell_type": "code",
   "execution_count": null,
   "id": "611b9f4a",
   "metadata": {},
   "outputs": [],
   "source": [
    "while(True):\n",
    "    try:\n",
    "        x=float(input(\"Introduce un numero \"))\n",
    "        y=5\n",
    "        print(\"La multiplicacion de \", x, \" * \", y, \" es = \",x*y)\n",
    "        break\n",
    "    except:\n",
    "        print(\"Ha ocurrido un error, vuelve a intentarlo\")"
   ]
  },
  {
   "cell_type": "code",
   "execution_count": null,
   "id": "455ebc95",
   "metadata": {},
   "outputs": [],
   "source": []
  },
  {
   "cell_type": "markdown",
   "id": "a4923ce1",
   "metadata": {},
   "source": [
    "#### Clasulas finally y else"
   ]
  },
  {
   "cell_type": "code",
   "execution_count": null,
   "id": "421e7245",
   "metadata": {},
   "outputs": [],
   "source": [
    "while(True):\n",
    "    try:\n",
    "        x=float(input(\"Introduce un numero \"))\n",
    "        y=5\n",
    "        print(\"La multiplicacion de \", x, \" * \", y, \" es = \",x*y)\n",
    "    except:\n",
    "        print(\"Ha ocurrido un error, vuelve a intentarlo\")\n",
    "    else:\n",
    "        print(\"Todo funciono bien!!!\")\n",
    "        break\n",
    "    finally:\n",
    "        print(\"Algun codigo adicional que se ejecutara suceda o no suceda un error\")"
   ]
  },
  {
   "cell_type": "code",
   "execution_count": null,
   "id": "658e8bd2",
   "metadata": {},
   "outputs": [],
   "source": [
    "x=4/0"
   ]
  },
  {
   "cell_type": "markdown",
   "id": "b00c662d",
   "metadata": {},
   "source": [
    "### Except por tipos de error "
   ]
  },
  {
   "cell_type": "code",
   "execution_count": null,
   "id": "9e705c2b",
   "metadata": {},
   "outputs": [],
   "source": []
  },
  {
   "cell_type": "code",
   "execution_count": 2,
   "id": "85b19cd4",
   "metadata": {},
   "outputs": [
    {
     "name": "stdout",
     "output_type": "stream",
     "text": [
      "Introduce un numero h\n",
      "Debes proporcionar un numero y no una letra\n",
      "Algun codigo adicional que se ejecutara suceda o no suceda un error\n",
      "Introduce un numero 0\n",
      "No puedes dividir un numero entre 0, proporciona un numero diferente de cero\n",
      "Algun codigo adicional que se ejecutara suceda o no suceda un error\n",
      "Introduce un numero 1\n",
      "La division de  100  entre  1.0  es =  100.0\n",
      "Todo funciono bien!!!\n",
      "Algun codigo adicional que se ejecutara suceda o no suceda un error\n",
      "Fuera del try\n"
     ]
    }
   ],
   "source": [
    "while(True):\n",
    "    try:\n",
    "        x=float(input(\"Introduce un numero \"))\n",
    "        y=100\n",
    "        print(\"La division de \", y, \" entre \", x, \" es = \",y / x)\n",
    "    except ValueError:\n",
    "        print(\"Debes proporcionar un numero y no una letra\")\n",
    "    except ZeroDivisionError:\n",
    "        print(\"No puedes dividir un numero entre 0, proporciona un numero diferente de cero\")\n",
    "    except Exception as e:\n",
    "        print(\"Error\", type(e).__name__)#sirve para ver sis surge otro error saber que tipo de exception es\n",
    "    else:\n",
    "        print(\"Todo funciono bien!!!\")\n",
    "        break\n",
    "    finally:\n",
    "        print(\"Algun codigo adicional que se ejecutara suceda o no suceda un error\")\n",
    "        \n",
    "        \n",
    "print(\"Fuera del try\")"
   ]
  },
  {
   "cell_type": "code",
   "execution_count": null,
   "id": "691c0a0a",
   "metadata": {},
   "outputs": [],
   "source": []
  },
  {
   "cell_type": "code",
   "execution_count": null,
   "id": "cdc14c62",
   "metadata": {},
   "outputs": [],
   "source": []
  }
 ],
 "metadata": {
  "kernelspec": {
   "display_name": "Python 3 (ipykernel)",
   "language": "python",
   "name": "python3"
  },
  "language_info": {
   "codemirror_mode": {
    "name": "ipython",
    "version": 3
   },
   "file_extension": ".py",
   "mimetype": "text/x-python",
   "name": "python",
   "nbconvert_exporter": "python",
   "pygments_lexer": "ipython3",
   "version": "3.9.12"
  }
 },
 "nbformat": 4,
 "nbformat_minor": 5
}
