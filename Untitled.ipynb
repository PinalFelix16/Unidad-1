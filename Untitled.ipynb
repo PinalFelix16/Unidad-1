{
 "cells": [
  {
   "cell_type": "markdown",
   "id": "014b44b7",
   "metadata": {},
   "source": [
    "# Analitica de datos en las organizaciones"
   ]
  },
  {
   "cell_type": "markdown",
   "id": "b140a325",
   "metadata": {},
   "source": [
    "##  Unidad 1 Conceptos Generales de Phyton"
   ]
  },
  {
   "cell_type": "code",
   "execution_count": 1,
   "id": "3c9e4bc1",
   "metadata": {},
   "outputs": [
    {
     "name": "stdout",
     "output_type": "stream",
     "text": [
      "Hola mundo\n"
     ]
    }
   ],
   "source": [
    "print(\"Hola mundo\")"
   ]
  },
  {
   "cell_type": "code",
   "execution_count": 2,
   "id": "a75b6b94",
   "metadata": {},
   "outputs": [
    {
     "name": "stdout",
     "output_type": "stream",
     "text": [
      "Hola \n",
      " mundo\n"
     ]
    }
   ],
   "source": [
    "print(\"Hola \\n mundo\")"
   ]
  },
  {
   "cell_type": "code",
   "execution_count": 3,
   "id": "e2fb63fe",
   "metadata": {},
   "outputs": [
    {
     "ename": "SyntaxError",
     "evalue": "invalid syntax (388726753.py, line 1)",
     "output_type": "error",
     "traceback": [
      "\u001b[1;36m  Input \u001b[1;32mIn [3]\u001b[1;36m\u001b[0m\n\u001b[1;33m    print(**********)\u001b[0m\n\u001b[1;37m            ^\u001b[0m\n\u001b[1;31mSyntaxError\u001b[0m\u001b[1;31m:\u001b[0m invalid syntax\n"
     ]
    }
   ],
   "source": [
    "print(**********)"
   ]
  },
  {
   "cell_type": "code",
   "execution_count": 4,
   "id": "c9e21f22",
   "metadata": {},
   "outputs": [
    {
     "name": "stdout",
     "output_type": "stream",
     "text": [
      "*****************\n"
     ]
    }
   ],
   "source": [
    "print(\"*****************\")"
   ]
  },
  {
   "cell_type": "code",
   "execution_count": 5,
   "id": "9dfb4b8b",
   "metadata": {},
   "outputs": [
    {
     "name": "stdout",
     "output_type": "stream",
     "text": [
      "**************************************************\n"
     ]
    }
   ],
   "source": [
    "print(\"*\" * 50)"
   ]
  },
  {
   "cell_type": "code",
   "execution_count": 6,
   "id": "9604285c",
   "metadata": {},
   "outputs": [
    {
     "name": "stdout",
     "output_type": "stream",
     "text": [
      "Hola MundoHola MundoHola MundoHola MundoHola MundoHola MundoHola MundoHola MundoHola MundoHola MundoHola MundoHola MundoHola MundoHola MundoHola MundoHola MundoHola MundoHola MundoHola MundoHola MundoHola MundoHola MundoHola MundoHola MundoHola MundoHola MundoHola MundoHola MundoHola MundoHola MundoHola MundoHola MundoHola MundoHola MundoHola MundoHola MundoHola MundoHola MundoHola MundoHola MundoHola MundoHola MundoHola MundoHola MundoHola MundoHola MundoHola MundoHola MundoHola MundoHola Mundo\n"
     ]
    }
   ],
   "source": [
    "print(\"Hola Mundo\"*50)"
   ]
  },
  {
   "cell_type": "markdown",
   "id": "a570962e",
   "metadata": {},
   "source": [
    "## Operadores en Phyton"
   ]
  },
  {
   "cell_type": "code",
   "execution_count": 7,
   "id": "ff8be362",
   "metadata": {},
   "outputs": [
    {
     "name": "stdout",
     "output_type": "stream",
     "text": [
      "150\n"
     ]
    }
   ],
   "source": [
    "print(3 * 50)"
   ]
  },
  {
   "cell_type": "code",
   "execution_count": 8,
   "id": "b79d5797",
   "metadata": {},
   "outputs": [
    {
     "name": "stdout",
     "output_type": "stream",
     "text": [
      "3.3333333333333335\n"
     ]
    }
   ],
   "source": [
    "print(10 / 3)"
   ]
  },
  {
   "cell_type": "code",
   "execution_count": 9,
   "id": "91b9f665",
   "metadata": {},
   "outputs": [
    {
     "name": "stdout",
     "output_type": "stream",
     "text": [
      "3\n"
     ]
    }
   ],
   "source": [
    "print(10 // 3) "
   ]
  },
  {
   "cell_type": "code",
   "execution_count": 10,
   "id": "d521da4a",
   "metadata": {},
   "outputs": [
    {
     "name": "stdout",
     "output_type": "stream",
     "text": [
      "1\n"
     ]
    }
   ],
   "source": [
    "print(9 % 2)"
   ]
  },
  {
   "cell_type": "code",
   "execution_count": 11,
   "id": "d43d985f",
   "metadata": {},
   "outputs": [
    {
     "name": "stdout",
     "output_type": "stream",
     "text": [
      "17\n"
     ]
    }
   ],
   "source": [
    "print(2 + 3 * 5)"
   ]
  },
  {
   "cell_type": "code",
   "execution_count": 12,
   "id": "63bccd29",
   "metadata": {},
   "outputs": [
    {
     "name": "stdout",
     "output_type": "stream",
     "text": [
      "25\n"
     ]
    }
   ],
   "source": [
    "print((2 + 3) * 5)"
   ]
  },
  {
   "cell_type": "code",
   "execution_count": 13,
   "id": "653cd802",
   "metadata": {},
   "outputs": [
    {
     "name": "stdout",
     "output_type": "stream",
     "text": [
      "15.708\n"
     ]
    }
   ],
   "source": [
    "x = 5\n",
    "y = 3.1416\n",
    "print(x * y)"
   ]
  },
  {
   "cell_type": "code",
   "execution_count": 14,
   "id": "58cde0a4",
   "metadata": {},
   "outputs": [
    {
     "data": {
      "text/plain": [
       "int"
      ]
     },
     "execution_count": 14,
     "metadata": {},
     "output_type": "execute_result"
    }
   ],
   "source": [
    "type(x)"
   ]
  },
  {
   "cell_type": "code",
   "execution_count": 15,
   "id": "644d864d",
   "metadata": {},
   "outputs": [
    {
     "data": {
      "text/plain": [
       "float"
      ]
     },
     "execution_count": 15,
     "metadata": {},
     "output_type": "execute_result"
    }
   ],
   "source": [
    "type(y)"
   ]
  },
  {
   "cell_type": "markdown",
   "id": "e85159e0",
   "metadata": {},
   "source": [
    "## Convertir tipos de Datos"
   ]
  },
  {
   "cell_type": "code",
   "execution_count": 16,
   "id": "a7aeec06",
   "metadata": {},
   "outputs": [
    {
     "name": "stdout",
     "output_type": "stream",
     "text": [
      "3\n"
     ]
    }
   ],
   "source": [
    "y = int(3.6)\n",
    "print(y)"
   ]
  },
  {
   "cell_type": "code",
   "execution_count": 18,
   "id": "809eed9f",
   "metadata": {},
   "outputs": [
    {
     "name": "stdout",
     "output_type": "stream",
     "text": [
      "300\n"
     ]
    }
   ],
   "source": [
    "x = \"300\"\n",
    "z = int(x)\n",
    "print(z)"
   ]
  },
  {
   "cell_type": "markdown",
   "id": "12081741",
   "metadata": {},
   "source": [
    "## Entrada de datos"
   ]
  },
  {
   "cell_type": "code",
   "execution_count": 19,
   "id": "31923b27",
   "metadata": {},
   "outputs": [
    {
     "name": "stdout",
     "output_type": "stream",
     "text": [
      "Escribe tu nombre: Carlos\n",
      "Tu nombre es:  Carlos\n"
     ]
    }
   ],
   "source": [
    "variable = input(\"Escribe tu nombre: \")\n",
    "print(\"Tu nombre es: \", variable)"
   ]
  },
  {
   "cell_type": "code",
   "execution_count": 20,
   "id": "be9ea4e4",
   "metadata": {},
   "outputs": [
    {
     "name": "stdout",
     "output_type": "stream",
     "text": [
      "Proporcioname un numero para multiplicarlo por 5: 5\n",
      "55555\n"
     ]
    }
   ],
   "source": [
    "x = input(\"Proporcioname un numero para multiplicarlo por 5: \")\n",
    "print(x * 5)"
   ]
  },
  {
   "cell_type": "code",
   "execution_count": 21,
   "id": "99d23650",
   "metadata": {},
   "outputs": [
    {
     "name": "stdout",
     "output_type": "stream",
     "text": [
      "Proporcioname un numero para multiplicarlo por 5: 5\n",
      "25\n"
     ]
    }
   ],
   "source": [
    "x = int(input(\"Proporcioname un numero para multiplicarlo por 5: \"))\n",
    "print(x * 5)"
   ]
  },
  {
   "cell_type": "markdown",
   "id": "8aa6a1a8",
   "metadata": {},
   "source": [
    "## Calcular la hipotenusa de un triangulo"
   ]
  },
  {
   "cell_type": "code",
   "execution_count": 22,
   "id": "1eb55027",
   "metadata": {},
   "outputs": [
    {
     "name": "stdout",
     "output_type": "stream",
     "text": [
      "Ingrese el cateto a: 3\n",
      "Ingrese el cateto b: 6\n",
      "La hipotenusa es:  6.708203932499369\n"
     ]
    }
   ],
   "source": [
    "import math\n",
    "a = float(input(\"Ingrese el cateto a: \"))\n",
    "b = float(input(\"Ingrese el cateto b: \"))\n",
    "c = (a**2) + (b**2)\n",
    "print(\"La hipotenusa es: \", math.sqrt(c))"
   ]
  },
  {
   "cell_type": "markdown",
   "id": "5bad3ef0",
   "metadata": {},
   "source": [
    "## IF ELSE condiciones"
   ]
  },
  {
   "cell_type": "code",
   "execution_count": 24,
   "id": "a5dfc750",
   "metadata": {},
   "outputs": [
    {
     "ename": "SyntaxError",
     "evalue": "invalid syntax (2862306721.py, line 5)",
     "output_type": "error",
     "traceback": [
      "\u001b[1;36m  Input \u001b[1;32mIn [24]\u001b[1;36m\u001b[0m\n\u001b[1;33m    else:\u001b[0m\n\u001b[1;37m    ^\u001b[0m\n\u001b[1;31mSyntaxError\u001b[0m\u001b[1;31m:\u001b[0m invalid syntax\n"
     ]
    }
   ],
   "source": [
    "a=5000\n",
    "b=7000\n",
    "if b > a:\n",
    "    print (\"b es mayor que a\")\n",
    "    print(b, \"es mayor que \", a)\n",
    "    else:\n",
    "    print(\"a es mayor que b\")\n",
    "    print(a, \"es mayor que \", b)\n",
    "    print(\"fuera del IF\")"
   ]
  },
  {
   "cell_type": "code",
   "execution_count": null,
   "id": "6c5b77f8",
   "metadata": {},
   "outputs": [],
   "source": []
  }
 ],
 "metadata": {
  "kernelspec": {
   "display_name": "Python 3 (ipykernel)",
   "language": "python",
   "name": "python3"
  },
  "language_info": {
   "codemirror_mode": {
    "name": "ipython",
    "version": 3
   },
   "file_extension": ".py",
   "mimetype": "text/x-python",
   "name": "python",
   "nbconvert_exporter": "python",
   "pygments_lexer": "ipython3",
   "version": "3.9.12"
  }
 },
 "nbformat": 4,
 "nbformat_minor": 5
}
